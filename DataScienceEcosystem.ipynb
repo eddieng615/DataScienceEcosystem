{
 "cells": [
  {
   "cell_type": "markdown",
   "id": "d2a9d713-15d0-4b5a-81bc-48ec4e5b6b66",
   "metadata": {},
   "source": [
    "#Exercise 2: Create markdown cell with title of the notebook\n",
    "\n",
    "# Data Science Tools and Ecosystem"
   ]
  },
  {
   "cell_type": "markdown",
   "id": "7a6d1c95-4d21-4998-b7aa-983c10814cc6",
   "metadata": {},
   "source": [
    "# Data Science Tools and Ecosystem"
   ]
  },
  {
   "cell_type": "markdown",
   "id": "dcd9b302-3234-48e9-8d7c-4879f47559b7",
   "metadata": {},
   "source": [
    "#Exercise 3 - Create a markdown cell for an introduction\n",
    "\n",
    "In this notebook, Data Science Tools and Ecosystem are summarized."
   ]
  },
  {
   "cell_type": "markdown",
   "id": "2258d982-b558-4a02-97a1-b587d98d47c0",
   "metadata": {
    "tags": []
   },
   "source": [
    "In this notebook, Data Science Tools and Ecosystem are summarized."
   ]
  },
  {
   "cell_type": "markdown",
   "id": "7e04189a-fb69-4d81-a828-9b4a18f0d9a1",
   "metadata": {},
   "source": [
    "#Exercise 10 - Insert a markdown cell to list Objectives\n",
    "\n",
    "**Objectives**\n",
    "- List of popular languages that Data Scientists use\n",
    "- Commonly used libraries used by Data Scientists\n",
    "- Data science tools\n",
    "- Introduction of arithmetic expression"
   ]
  },
  {
   "cell_type": "markdown",
   "id": "bd2bc27c-9ca4-41fa-8105-fc7b71f5dfbf",
   "metadata": {
    "tags": []
   },
   "source": [
    "**Objectives**\n",
    "- List of popular languages that Data Scientists use\n",
    "- Commonly used libraries used by Data Scientists\n",
    "- Data science tools\n",
    "- Introduction of arithmetic expression"
   ]
  },
  {
   "cell_type": "markdown",
   "id": "747ddc51-b94f-4188-bc33-78bc5c21a5ce",
   "metadata": {},
   "source": [
    "#Exercise 4 - Create a markdown cell to list data science languages\n",
    "\n",
    "Some of the popular languages that Data Scientists use are:\n",
    "1. Python\n",
    "2. R\n",
    "3. SQL\n",
    "4. Julia\n",
    "5. Scala"
   ]
  },
  {
   "cell_type": "markdown",
   "id": "da961161-73fa-4263-b79b-19bfa41226a8",
   "metadata": {},
   "source": [
    "Some of the popular languages that Data Scientists use are:\n",
    "1. Python\n",
    "2. R\n",
    "3. SQL\n",
    "4. Julia\n",
    "5. Scala"
   ]
  },
  {
   "cell_type": "markdown",
   "id": "ec3f6351-63d1-463f-b884-ff69eae89139",
   "metadata": {},
   "source": [
    "#Exercise 5 - Create a markdown cell to list data science libraries\n",
    "\n",
    "Some of the commonly used libraries used by Data Scientists include:\n",
    "1. TensorFlow\n",
    "2. NumPy\n",
    "3. SciPy \n",
    "4. Pandas\n",
    "5. Matplotlib "
   ]
  },
  {
   "cell_type": "markdown",
   "id": "d1dc9aa4-abf5-4976-805d-60fb900188bc",
   "metadata": {
    "tags": []
   },
   "source": [
    "Some of the commonly used libraries used by Data Scientists include:\n",
    "1. TensorFlow\n",
    "2. NumPy\n",
    "3. SciPy \n",
    "4. Pandas\n",
    "5. Matplotlib"
   ]
  },
  {
   "cell_type": "code",
   "execution_count": null,
   "id": "21c71ac5-b65b-497a-9c0d-36fa4924dfaf",
   "metadata": {},
   "outputs": [],
   "source": [
    "#Exercise 6 - Create a markdown cell with a table of Data Science tools\n",
    "\n",
    "|Data Science Tools|\n",
    "|------------------|\n",
    "|MySQL|\n",
    "|Ceph|\n",
    "|Apache AirFlow|\n"
   ]
  },
  {
   "cell_type": "markdown",
   "id": "ffb29375-d1e3-4de1-b640-d800d75e3444",
   "metadata": {
    "tags": []
   },
   "source": [
    "|Data Science Tools|\n",
    "|------------------|\n",
    "|MySQL|\n",
    "|Ceph|\n",
    "|Apache AirFlow|"
   ]
  },
  {
   "cell_type": "markdown",
   "id": "61456d9e-4806-465a-a858-1b94a7d83f98",
   "metadata": {},
   "source": [
    "#Exercise 7 - Create a markdown cell introducing arithmetic expression examples\n",
    "\n",
    "### Below are a few examples of evaluating arithmetic expressions in Python."
   ]
  },
  {
   "cell_type": "markdown",
   "id": "a5398f23-785a-47db-b292-0b440bdbfe4f",
   "metadata": {
    "tags": []
   },
   "source": [
    "### Below are a few examples of evaluating arithmetic expressions in Python."
   ]
  },
  {
   "cell_type": "code",
   "execution_count": 8,
   "id": "32ffb28b-0350-4b84-aae8-24c20e762495",
   "metadata": {
    "tags": []
   },
   "outputs": [
    {
     "data": {
      "text/plain": [
       "17"
      ]
     },
     "execution_count": 8,
     "metadata": {},
     "output_type": "execute_result"
    }
   ],
   "source": [
    "#Exercise 8 - Create a code cell to multiply and add numbers\n",
    "\n",
    "#This a simple arithmetic expression to multiply then add integers.\n",
    "\n",
    "(3*4)+5"
   ]
  },
  {
   "cell_type": "code",
   "execution_count": 9,
   "id": "1e4c1904-c940-4b2e-8f44-726fc7f101bd",
   "metadata": {
    "tags": []
   },
   "outputs": [
    {
     "data": {
      "text/plain": [
       "3"
      ]
     },
     "execution_count": 9,
     "metadata": {},
     "output_type": "execute_result"
    }
   ],
   "source": [
    "#Exercise 9 - Create a code cell to convert minutes to hours\n",
    "\n",
    "#This will convert 200 minutes to hours by dividing by 60.\n",
    "\n",
    "200//60"
   ]
  },
  {
   "cell_type": "markdown",
   "id": "9ae2303d-38c8-484b-8deb-60d0ec2f5a28",
   "metadata": {},
   "source": [
    "#Exercise 11 - Create a markdown cell to indicate the Author's name\n",
    "\n",
    "## Author\n",
    "Chi Wai NG (Eddie)"
   ]
  },
  {
   "cell_type": "markdown",
   "id": "03000c8a-7cf9-4169-a15d-64f68125da3a",
   "metadata": {},
   "source": [
    "## Author\n",
    "Chi Wai NG (Eddie)"
   ]
  }
 ],
 "metadata": {
  "kernelspec": {
   "display_name": "Python",
   "language": "python",
   "name": "conda-env-python-py"
  },
  "language_info": {
   "codemirror_mode": {
    "name": "ipython",
    "version": 3
   },
   "file_extension": ".py",
   "mimetype": "text/x-python",
   "name": "python",
   "nbconvert_exporter": "python",
   "pygments_lexer": "ipython3",
   "version": "3.7.12"
  }
 },
 "nbformat": 4,
 "nbformat_minor": 5
}
